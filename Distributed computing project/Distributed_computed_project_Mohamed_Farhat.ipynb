{
 "cells": [
  {
   "cell_type": "markdown",
   "metadata": {},
   "source": [
    "# PROJECT : ENSAE Distributed computing course 2021\n",
    "\n",
    "## Fraud detection using Pyspark utilities\n",
    "\n",
    "Author : Mohamed Farhat"
   ]
  },
  {
   "cell_type": "markdown",
   "metadata": {},
   "source": [
    "Goals : \n",
    "- Make use of Pyspark in a machine learning context.\n",
    "- Make use of  Machine learning algorithms for Fraud detection."
   ]
  },
  {
   "cell_type": "markdown",
   "metadata": {},
   "source": [
    "<div class=\"alert alert-block alert-success\">\n",
    "    <h1>Introduction </h1>\n",
    "</div>"
   ]
  },
  {
   "cell_type": "markdown",
   "metadata": {},
   "source": [
    "For the distributed computing project, we propose to conceive a machine learning pipeline that we will use for fraud detection. Our choice may be justified by the lack of publicly accessible datasets on financial services,  specifically in the niche domain of mobile money transactions. This lack of data hinders the study of these platforms by researchers and therefore fraud detection systems and system proposals can't advance. However, this data scarcity is due to the intrinsic private nature of the transactions themselves. \n",
    "\n",
    "We adapt here a dataset that was generated using PaySim. PaySim uses aggregated data from a given private dataset and then generate a similar synthetic dataset that incorporates the normal transactions but also injects some fraudulent malicious ones which can be used to evaluate the fraud detection system at place. The dataset we have here is taken from **Kaggle** (link provided later on) and it is $\\frac{1}{4}$ of its original size.\n",
    "\n",
    "**About PaySim**\n",
    "\n",
    ">PaySim simulates mobile money transactions based on a sample of real transactions extracted from one month of financial logs from a mobile money service implemented in an African country. The original logs were provided by a multinational company, who is the provider of the mobile financial service which is currently running in more than 14 countries all around the world.\n"
   ]
  },
  {
   "cell_type": "markdown",
   "metadata": {},
   "source": [
    "<div class=\"alert alert-block alert-success\">\n",
    "    <h1>Data analysis and ML pipeline </h1>\n",
    "</div>"
   ]
  },
  {
   "cell_type": "markdown",
   "metadata": {},
   "source": [
    "<div class=\"alert alert-info\">\n",
    "    <h2>Part 0: Getting the necessary packages </h2>\n",
    "</div>"
   ]
  },
  {
   "cell_type": "markdown",
   "metadata": {},
   "source": [
    "We will here load all the necessary packages/modules for our project"
   ]
  },
  {
   "cell_type": "code",
   "execution_count": 6,
   "metadata": {},
   "outputs": [],
   "source": [
    "%matplotlib inline\n",
    "import os\n",
    "import gdown\n",
    "import seaborn as sns\n",
    "import pyspark\n",
    "from pyspark import SparkContext, SparkConf\n",
    "from pyspark.sql import SQLContext\n",
    "from pyspark.sql.types import StringType, IntegerType \n",
    "from pyspark.sql.functions import col, sum, mean, max, count, when, lit, udf\n",
    "from pyspark.ml import Pipeline\n",
    "from pyspark.ml.feature import StringIndexer, VectorAssembler, PCA\n",
    "from pyspark.ml.classification import RandomForestClassifier\n",
    "from pyspark.ml.tuning import CrossValidator, TrainValidationSplit, ParamGridBuilder\n",
    "from pyspark.ml.evaluation import MulticlassClassificationEvaluator\n",
    "import pandas as pd\n",
    "import numpy as np\n",
    "import matplotlib.pyplot as plt\n",
    "from sklearn.metrics import confusion_matrix\n",
    "from sklearn import metrics\n",
    "from sklearn.metrics import classification_report"
   ]
  },
  {
   "cell_type": "markdown",
   "metadata": {},
   "source": [
    "<div class=\"alert alert-info\">\n",
    "    <h2>Part 1: The data </h2>\n",
    "</div>"
   ]
  },
  {
   "cell_type": "markdown",
   "metadata": {},
   "source": [
    "The Data can be downloaded from kaggle using the following url : [data url](https://www.kaggle.com/ntnu-testimon/paysim1). However for this project, I provide a direct download using this notebook tie saving purposes. "
   ]
  },
  {
   "cell_type": "code",
   "execution_count": 2,
   "metadata": {},
   "outputs": [
    {
     "name": "stderr",
     "output_type": "stream",
     "text": [
      "Downloading...\n",
      "From: https://drive.google.com/uc?id=1YkWjRPb9aeZP0KxWsaDrfgygxILFa6mg\n",
      "To: /distributed_computing_mohamed_farhat_project/data/fraud_data.csv\n",
      "494MB [01:05, 7.54MB/s] \n"
     ]
    }
   ],
   "source": [
    "# Downloading data\n",
    "url = \"https://drive.google.com/uc?id=1YkWjRPb9aeZP0KxWsaDrfgygxILFa6mg\"\n",
    "if not os.path.exists(os.path.join(os.getcwd() , 'data')): # check if the data dir isn't created\n",
    "    os.mkdir(os.path.join(os.getcwd() , 'data')) # Create data dir if so\n",
    "data_path = os.path.join(os.getcwd() , 'data', 'fraud_data.csv') # Path to dataset\n",
    "gdown.download(url, data_path, quiet=False);"
   ]
  },
  {
   "cell_type": "markdown",
   "metadata": {},
   "source": [
    "Before displaying the data let's define and explain each feature in it  :\n",
    "- Step :  maps a unit of time in the real world. For example, 1 step is 1 hour. Total steps 744 (30 days simulation).\n",
    "- Type : CASH-IN, CASH-OUT, DEBIT, PAYMENT and TRANSFER. (This is more or less self explanatory)\n",
    "- Amount : The amount of the transaction in local currency.\n",
    "- nameOrig : The customer who started the transaction.\n",
    "- oldbalanceOrg : The initial balance before the transaction.\n",
    "- newbalanceOrig : The new balance after the transaction.\n",
    "- nameDest : The customer who is the recipient of the transaction.\n",
    "- oldbalanceDest : The initial balance recipient before the transaction. This is absent for customers who are merchants, these start with M.\n",
    "- newbalanceDest : The new balance recipient after the transaction. This is absent for customers who are merchants, these start with M.\n",
    "- isFraud : This is the transactions made by the fraudulent agents inside the simulation. In this specific dataset the fraudulent behavior of the agents aims to profit by taking control of customers accounts and try to empty the funds by transferring to another account and then cashing out of the system.\n",
    "- isFlaggedFraud : The business model aims to control massive transfers from one account to another and flags illegal attempts. An illegal attempt in this dataset is an attempt to transfer more than 200.000 in a single transaction."
   ]
  },
  {
   "cell_type": "markdown",
   "metadata": {},
   "source": [
    "Now let's have a look at the dataset : "
   ]
  },
  {
   "cell_type": "code",
   "execution_count": 3,
   "metadata": {},
   "outputs": [],
   "source": [
    "# Creating a spark context\n",
    "sc = SparkContext(appName=\"Fraud detection\")\n",
    "sqlc = SQLContext(sc) "
   ]
  },
  {
   "cell_type": "code",
   "execution_count": 4,
   "metadata": {},
   "outputs": [],
   "source": [
    "data = sqlc.read.csv(data_path,header = True) #Reading data"
   ]
  },
  {
   "cell_type": "markdown",
   "metadata": {},
   "source": [
    "Let's dispaly the First 5 rows in a more elegant pandas manner "
   ]
  },
  {
   "cell_type": "code",
   "execution_count": 5,
   "metadata": {},
   "outputs": [
    {
     "data": {
      "text/html": [
       "<div>\n",
       "<style scoped>\n",
       "    .dataframe tbody tr th:only-of-type {\n",
       "        vertical-align: middle;\n",
       "    }\n",
       "\n",
       "    .dataframe tbody tr th {\n",
       "        vertical-align: top;\n",
       "    }\n",
       "\n",
       "    .dataframe thead th {\n",
       "        text-align: right;\n",
       "    }\n",
       "</style>\n",
       "<table border=\"1\" class=\"dataframe\">\n",
       "  <thead>\n",
       "    <tr style=\"text-align: right;\">\n",
       "      <th></th>\n",
       "      <th>step</th>\n",
       "      <th>type</th>\n",
       "      <th>amount</th>\n",
       "      <th>nameOrig</th>\n",
       "      <th>oldbalanceOrg</th>\n",
       "      <th>newbalanceOrig</th>\n",
       "      <th>nameDest</th>\n",
       "      <th>oldbalanceDest</th>\n",
       "      <th>newbalanceDest</th>\n",
       "      <th>isFraud</th>\n",
       "      <th>isFlaggedFraud</th>\n",
       "    </tr>\n",
       "  </thead>\n",
       "  <tbody>\n",
       "    <tr>\n",
       "      <th>0</th>\n",
       "      <td>1</td>\n",
       "      <td>PAYMENT</td>\n",
       "      <td>9839.64</td>\n",
       "      <td>C1231006815</td>\n",
       "      <td>170136.0</td>\n",
       "      <td>160296.36</td>\n",
       "      <td>M1979787155</td>\n",
       "      <td>0.0</td>\n",
       "      <td>0.0</td>\n",
       "      <td>0</td>\n",
       "      <td>0</td>\n",
       "    </tr>\n",
       "    <tr>\n",
       "      <th>1</th>\n",
       "      <td>1</td>\n",
       "      <td>PAYMENT</td>\n",
       "      <td>1864.28</td>\n",
       "      <td>C1666544295</td>\n",
       "      <td>21249.0</td>\n",
       "      <td>19384.72</td>\n",
       "      <td>M2044282225</td>\n",
       "      <td>0.0</td>\n",
       "      <td>0.0</td>\n",
       "      <td>0</td>\n",
       "      <td>0</td>\n",
       "    </tr>\n",
       "    <tr>\n",
       "      <th>2</th>\n",
       "      <td>1</td>\n",
       "      <td>TRANSFER</td>\n",
       "      <td>181.0</td>\n",
       "      <td>C1305486145</td>\n",
       "      <td>181.0</td>\n",
       "      <td>0.0</td>\n",
       "      <td>C553264065</td>\n",
       "      <td>0.0</td>\n",
       "      <td>0.0</td>\n",
       "      <td>1</td>\n",
       "      <td>0</td>\n",
       "    </tr>\n",
       "    <tr>\n",
       "      <th>3</th>\n",
       "      <td>1</td>\n",
       "      <td>CASH_OUT</td>\n",
       "      <td>181.0</td>\n",
       "      <td>C840083671</td>\n",
       "      <td>181.0</td>\n",
       "      <td>0.0</td>\n",
       "      <td>C38997010</td>\n",
       "      <td>21182.0</td>\n",
       "      <td>0.0</td>\n",
       "      <td>1</td>\n",
       "      <td>0</td>\n",
       "    </tr>\n",
       "    <tr>\n",
       "      <th>4</th>\n",
       "      <td>1</td>\n",
       "      <td>PAYMENT</td>\n",
       "      <td>11668.14</td>\n",
       "      <td>C2048537720</td>\n",
       "      <td>41554.0</td>\n",
       "      <td>29885.86</td>\n",
       "      <td>M1230701703</td>\n",
       "      <td>0.0</td>\n",
       "      <td>0.0</td>\n",
       "      <td>0</td>\n",
       "      <td>0</td>\n",
       "    </tr>\n",
       "  </tbody>\n",
       "</table>\n",
       "</div>"
      ],
      "text/plain": [
       "  step      type    amount     nameOrig oldbalanceOrg newbalanceOrig  \\\n",
       "0    1   PAYMENT   9839.64  C1231006815      170136.0      160296.36   \n",
       "1    1   PAYMENT   1864.28  C1666544295       21249.0       19384.72   \n",
       "2    1  TRANSFER     181.0  C1305486145         181.0            0.0   \n",
       "3    1  CASH_OUT     181.0   C840083671         181.0            0.0   \n",
       "4    1   PAYMENT  11668.14  C2048537720       41554.0       29885.86   \n",
       "\n",
       "      nameDest oldbalanceDest newbalanceDest isFraud isFlaggedFraud  \n",
       "0  M1979787155            0.0            0.0       0              0  \n",
       "1  M2044282225            0.0            0.0       0              0  \n",
       "2   C553264065            0.0            0.0       1              0  \n",
       "3    C38997010        21182.0            0.0       1              0  \n",
       "4  M1230701703            0.0            0.0       0              0  "
      ]
     },
     "execution_count": 5,
     "metadata": {},
     "output_type": "execute_result"
    }
   ],
   "source": [
    "data.limit(5).toPandas()"
   ]
  },
  {
   "cell_type": "markdown",
   "metadata": {},
   "source": [
    "We can see that there are some two fraud operations happened at the 2nd and 3rd rows without being flagged as such. Aside from 3 non numeric columns of which 2 we would argue are not important for the task, the remaining columns are numeric (in the sense they won't be a problem when casting types)."
   ]
  },
  {
   "cell_type": "markdown",
   "metadata": {},
   "source": [
    "<div class=\"alert alert-info\">\n",
    "    <h3>Part 1.1: Data exploration </h3>\n",
    "</div>"
   ]
  },
  {
   "cell_type": "markdown",
   "metadata": {},
   "source": [
    "Let's see how many columns our dataframe have, how many fraudulent operations are there and the number of ordinary ones. "
   ]
  },
  {
   "cell_type": "code",
   "execution_count": 7,
   "metadata": {},
   "outputs": [
    {
     "name": "stdout",
     "output_type": "stream",
     "text": [
      "\u001b[1mThe data contain 6362620 rows \u001b[0m\n",
      "+-------+-------+\n",
      "|isFraud|  count|\n",
      "+-------+-------+\n",
      "|      0|6354407|\n",
      "|      1|   8213|\n",
      "+-------+-------+\n",
      "\n"
     ]
    }
   ],
   "source": [
    "print('\\033[1mThe data contain {} rows \\033[0m'.format(data.count()))\n",
    "data.groupBy('isFraud').count().show()"
   ]
  },
  {
   "cell_type": "code",
   "execution_count": 8,
   "metadata": {},
   "outputs": [
    {
     "data": {
      "image/png": "[encoded data removed]",
      "text/plain": [
       "<Figure size 432x288 with 1 Axes>"
      ]
     },
     "metadata": {},
     "output_type": "display_data"
    }
   ],
   "source": [
    "to_plot = data.groupBy('isFraud').count().toPandas()\n",
    "sns.set_theme(style=\"whitegrid\")\n",
    "sns.barplot(x=\"isFraud\", y=\"count\", data=to_plot);"
   ]
  },
  {
   "cell_type": "markdown",
   "metadata": {},
   "source": [
    "We can see that the data have **6 millions** rows out of which **8 thousands** are fraudulent operations or $0.13\\%$, which is expected otherwise this would be a thieves world. We are facing an imbalanced dataset case. Now let's see how many data columns contain missing values."
   ]
  },
  {
   "cell_type": "code",
   "execution_count": 9,
   "metadata": {},
   "outputs": [
    {
     "name": "stdout",
     "output_type": "stream",
     "text": [
      "+----+----+------+--------+-------------+--------------+--------+--------------+--------------+-------+--------------+\n",
      "|step|type|amount|nameOrig|oldbalanceOrg|newbalanceOrig|nameDest|oldbalanceDest|newbalanceDest|isFraud|isFlaggedFraud|\n",
      "+----+----+------+--------+-------------+--------------+--------+--------------+--------------+-------+--------------+\n",
      "|   0|   0|     0|       0|            0|             0|       0|             0|             0|      0|             0|\n",
      "+----+----+------+--------+-------------+--------------+--------+--------------+--------------+-------+--------------+\n",
      "\n"
     ]
    }
   ],
   "source": [
    "data.select(*(sum(col(c).isNull().cast(\"int\")).alias(c) for c in data.columns)).show()"
   ]
  },
  {
   "cell_type": "markdown",
   "metadata": {},
   "source": [
    "This is a good surprise, there are no missing values in the dataset so we won't be obliged to use imputation techniques and introduce new data. "
   ]
  },
  {
   "cell_type": "markdown",
   "metadata": {},
   "source": [
    "<div class=\"alert alert-info\">\n",
    "    <h3>Part 1.2: The fraudulent fraction </h3>\n",
    "</div>"
   ]
  },
  {
   "cell_type": "markdown",
   "metadata": {},
   "source": [
    "In this subsection, we want to understand the behaviour of the fraudsters. "
   ]
  },
  {
   "cell_type": "code",
   "execution_count": 10,
   "metadata": {},
   "outputs": [
    {
     "name": "stdout",
     "output_type": "stream",
     "text": [
      "+--------+-----+\n",
      "|    type|count|\n",
      "+--------+-----+\n",
      "|TRANSFER| 4097|\n",
      "|CASH_OUT| 4116|\n",
      "+--------+-----+\n",
      "\n"
     ]
    }
   ],
   "source": [
    "data.filter(data['isFraud'] == 1).groupby('type').count().show()"
   ]
  },
  {
   "cell_type": "code",
   "execution_count": 11,
   "metadata": {},
   "outputs": [
    {
     "data": {
      "image/png": "[encoded data removed]",
      "text/plain": [
       "<Figure size 432x288 with 1 Axes>"
      ]
     },
     "metadata": {},
     "output_type": "display_data"
    }
   ],
   "source": [
    "to_plot = data.filter(data['isFraud'] == 1).groupby('type').count().toPandas()\n",
    "sns.barplot(x=\"type\", y=\"count\", data=to_plot);"
   ]
  },
  {
   "cell_type": "markdown",
   "metadata": {},
   "source": [
    "We can see that fraudulent operations mainly deal in either **TRANSFER** or **CASH_OUT** in nearly equal proportions. This is more inline with logical explanations as fraudesters tend to take the money as soon as they can so other operations don't make much sense and this is reflected by the data."
   ]
  },
  {
   "cell_type": "markdown",
   "metadata": {},
   "source": [
    "Now Let's see how many fraudulent operations have actually been flagged as such :"
   ]
  },
  {
   "cell_type": "code",
   "execution_count": 12,
   "metadata": {},
   "outputs": [
    {
     "name": "stdout",
     "output_type": "stream",
     "text": [
      "+--------------+-------+\n",
      "|isFlaggedFraud|  count|\n",
      "+--------------+-------+\n",
      "|             0|6362604|\n",
      "|             1|     16|\n",
      "+--------------+-------+\n",
      "\n"
     ]
    }
   ],
   "source": [
    "data.groupby('isFlaggedFraud').count().show()"
   ]
  },
  {
   "cell_type": "code",
   "execution_count": 13,
   "metadata": {},
   "outputs": [
    {
     "name": "stdout",
     "output_type": "stream",
     "text": [
      "+--------------+-----+\n",
      "|isFlaggedFraud|count|\n",
      "+--------------+-----+\n",
      "|             0| 8197|\n",
      "|             1|   16|\n",
      "+--------------+-----+\n",
      "\n"
     ]
    }
   ],
   "source": [
    "data.filter(data['isFraud'] == 1).groupby('isFlaggedFraud').count().show()"
   ]
  },
  {
   "cell_type": "code",
   "execution_count": 14,
   "metadata": {},
   "outputs": [
    {
     "data": {
      "image/png": "[encoded data removed]",
      "text/plain": [
       "<Figure size 432x288 with 1 Axes>"
      ]
     },
     "metadata": {},
     "output_type": "display_data"
    }
   ],
   "source": [
    "to_plot = data.filter(data['isFraud'] == 1).groupby('isFlaggedFraud').count().toPandas()\n",
    "sns.barplot(x=\"isFlaggedFraud\", y=\"count\", data=to_plot);"
   ]
  },
  {
   "cell_type": "markdown",
   "metadata": {},
   "source": [
    "We can see that for more than 8 thousand operations only 16 have been flagged as such which justifies why we want to deal with this problem. Now let's see when an order is flagged as fraud."
   ]
  },
  {
   "cell_type": "code",
   "execution_count": 15,
   "metadata": {},
   "outputs": [
    {
     "name": "stdout",
     "output_type": "stream",
     "text": [
      "+----+--------+----------+-----------+-------------+--------------+-----------+--------------+--------------+-------+--------------+\n",
      "|step|    type|    amount|   nameOrig|oldbalanceOrg|newbalanceOrig|   nameDest|oldbalanceDest|newbalanceDest|isFraud|isFlaggedFraud|\n",
      "+----+--------+----------+-----------+-------------+--------------+-----------+--------------+--------------+-------+--------------+\n",
      "| 646|TRANSFER|     1.0E7|  C19004745|1.039904508E7| 1.039904508E7|C1806199534|           0.0|           0.0|      1|             1|\n",
      "| 425|TRANSFER|     1.0E7| C689608084|1.958504037E7| 1.958504037E7|C1392803603|           0.0|           0.0|      1|             1|\n",
      "| 730|TRANSFER|     1.0E7|C2140038573|1.731625505E7| 1.731625505E7|C1395467927|           0.0|           0.0|      1|             1|\n",
      "| 250|TRANSFER|1343002.08|C1100582606|   1343002.08|    1343002.08|C1147517658|           0.0|           0.0|      1|             1|\n",
      "| 617|TRANSFER|2542664.27| C786455622|   2542664.27|    2542664.27| C661958277|           0.0|           0.0|      1|             1|\n",
      "| 702|TRANSFER|3171085.59|C1892216157|   3171085.59|    3171085.59|C1308068787|           0.0|           0.0|      1|             1|\n",
      "| 671|TRANSFER|3441041.46| C917414431|   3441041.46|    3441041.46|C1082139865|           0.0|           0.0|      1|             1|\n",
      "| 586|TRANSFER| 353874.22|C1684585475|    353874.22|     353874.22|C1770418982|           0.0|           0.0|      1|             1|\n",
      "| 554|TRANSFER| 3576297.1| C193696150|    3576297.1|     3576297.1| C484597480|           0.0|           0.0|      1|             1|\n",
      "| 646|TRANSFER| 399045.08| C724693370|1.039904508E7| 1.039904508E7|C1909486199|           0.0|           0.0|      1|             1|\n",
      "| 387|TRANSFER|4892193.09| C908544136|   4892193.09|    4892193.09| C891140444|           0.0|           0.0|      1|             1|\n",
      "| 212|TRANSFER|4953893.08| C728984460|   4953893.08|    4953893.08| C639921569|           0.0|           0.0|      1|             1|\n",
      "| 279|TRANSFER| 536624.41|C1035541766|    536624.41|     536624.41|C1100697970|           0.0|           0.0|      1|             1|\n",
      "| 741|TRANSFER|5674547.89| C992223106|   5674547.89|    5674547.89|C1366804249|           0.0|           0.0|      1|             1|\n",
      "| 730|TRANSFER|7316255.05|C1869569059|1.731625505E7| 1.731625505E7|C1861208726|           0.0|           0.0|      1|             1|\n",
      "| 425|TRANSFER|9585040.37| C452586515|1.958504037E7| 1.958504037E7|C1109166882|           0.0|           0.0|      1|             1|\n",
      "+----+--------+----------+-----------+-------------+--------------+-----------+--------------+--------------+-------+--------------+\n",
      "\n"
     ]
    }
   ],
   "source": [
    "data.filter(data['isFlaggedFraud'] == 1).orderBy('amount').show()"
   ]
  },
  {
   "cell_type": "markdown",
   "metadata": {},
   "source": [
    "Eh this isn't very pleasant to read so we will transform it into a pandas dataframe given its small size."
   ]
  },
  {
   "cell_type": "code",
   "execution_count": 16,
   "metadata": {},
   "outputs": [
    {
     "data": {
      "text/html": [
       "<div>\n",
       "<style scoped>\n",
       "    .dataframe tbody tr th:only-of-type {\n",
       "        vertical-align: middle;\n",
       "    }\n",
       "\n",
       "    .dataframe tbody tr th {\n",
       "        vertical-align: top;\n",
       "    }\n",
       "\n",
       "    .dataframe thead th {\n",
       "        text-align: right;\n",
       "    }\n",
       "</style>\n",
       "<table border=\"1\" class=\"dataframe\">\n",
       "  <thead>\n",
       "    <tr style=\"text-align: right;\">\n",
       "      <th></th>\n",
       "      <th>step</th>\n",
       "      <th>type</th>\n",
       "      <th>amount</th>\n",
       "      <th>nameOrig</th>\n",
       "      <th>oldbalanceOrg</th>\n",
       "      <th>newbalanceOrig</th>\n",
       "      <th>nameDest</th>\n",
       "      <th>oldbalanceDest</th>\n",
       "      <th>newbalanceDest</th>\n",
       "      <th>isFraud</th>\n",
       "      <th>isFlaggedFraud</th>\n",
       "    </tr>\n",
       "  </thead>\n",
       "  <tbody>\n",
       "    <tr>\n",
       "      <th>0</th>\n",
       "      <td>425</td>\n",
       "      <td>TRANSFER</td>\n",
       "      <td>1.0E7</td>\n",
       "      <td>C689608084</td>\n",
       "      <td>1.958504037E7</td>\n",
       "      <td>1.958504037E7</td>\n",
       "      <td>C1392803603</td>\n",
       "      <td>0.0</td>\n",
       "      <td>0.0</td>\n",
       "      <td>1</td>\n",
       "      <td>1</td>\n",
       "    </tr>\n",
       "    <tr>\n",
       "      <th>1</th>\n",
       "      <td>646</td>\n",
       "      <td>TRANSFER</td>\n",
       "      <td>1.0E7</td>\n",
       "      <td>C19004745</td>\n",
       "      <td>1.039904508E7</td>\n",
       "      <td>1.039904508E7</td>\n",
       "      <td>C1806199534</td>\n",
       "      <td>0.0</td>\n",
       "      <td>0.0</td>\n",
       "      <td>1</td>\n",
       "      <td>1</td>\n",
       "    </tr>\n",
       "    <tr>\n",
       "      <th>2</th>\n",
       "      <td>730</td>\n",
       "      <td>TRANSFER</td>\n",
       "      <td>1.0E7</td>\n",
       "      <td>C2140038573</td>\n",
       "      <td>1.731625505E7</td>\n",
       "      <td>1.731625505E7</td>\n",
       "      <td>C1395467927</td>\n",
       "      <td>0.0</td>\n",
       "      <td>0.0</td>\n",
       "      <td>1</td>\n",
       "      <td>1</td>\n",
       "    </tr>\n",
       "    <tr>\n",
       "      <th>3</th>\n",
       "      <td>250</td>\n",
       "      <td>TRANSFER</td>\n",
       "      <td>1343002.08</td>\n",
       "      <td>C1100582606</td>\n",
       "      <td>1343002.08</td>\n",
       "      <td>1343002.08</td>\n",
       "      <td>C1147517658</td>\n",
       "      <td>0.0</td>\n",
       "      <td>0.0</td>\n",
       "      <td>1</td>\n",
       "      <td>1</td>\n",
       "    </tr>\n",
       "    <tr>\n",
       "      <th>4</th>\n",
       "      <td>617</td>\n",
       "      <td>TRANSFER</td>\n",
       "      <td>2542664.27</td>\n",
       "      <td>C786455622</td>\n",
       "      <td>2542664.27</td>\n",
       "      <td>2542664.27</td>\n",
       "      <td>C661958277</td>\n",
       "      <td>0.0</td>\n",
       "      <td>0.0</td>\n",
       "      <td>1</td>\n",
       "      <td>1</td>\n",
       "    </tr>\n",
       "    <tr>\n",
       "      <th>5</th>\n",
       "      <td>702</td>\n",
       "      <td>TRANSFER</td>\n",
       "      <td>3171085.59</td>\n",
       "      <td>C1892216157</td>\n",
       "      <td>3171085.59</td>\n",
       "      <td>3171085.59</td>\n",
       "      <td>C1308068787</td>\n",
       "      <td>0.0</td>\n",
       "      <td>0.0</td>\n",
       "      <td>1</td>\n",
       "      <td>1</td>\n",
       "    </tr>\n",
       "    <tr>\n",
       "      <th>6</th>\n",
       "      <td>671</td>\n",
       "      <td>TRANSFER</td>\n",
       "      <td>3441041.46</td>\n",
       "      <td>C917414431</td>\n",
       "      <td>3441041.46</td>\n",
       "      <td>3441041.46</td>\n",
       "      <td>C1082139865</td>\n",
       "      <td>0.0</td>\n",
       "      <td>0.0</td>\n",
       "      <td>1</td>\n",
       "      <td>1</td>\n",
       "    </tr>\n",
       "    <tr>\n",
       "      <th>7</th>\n",
       "      <td>586</td>\n",
       "      <td>TRANSFER</td>\n",
       "      <td>353874.22</td>\n",
       "      <td>C1684585475</td>\n",
       "      <td>353874.22</td>\n",
       "      <td>353874.22</td>\n",
       "      <td>C1770418982</td>\n",
       "      <td>0.0</td>\n",
       "      <td>0.0</td>\n",
       "      <td>1</td>\n",
       "      <td>1</td>\n",
       "    </tr>\n",
       "    <tr>\n",
       "      <th>8</th>\n",
       "      <td>554</td>\n",
       "      <td>TRANSFER</td>\n",
       "      <td>3576297.1</td>\n",
       "      <td>C193696150</td>\n",
       "      <td>3576297.1</td>\n",
       "      <td>3576297.1</td>\n",
       "      <td>C484597480</td>\n",
       "      <td>0.0</td>\n",
       "      <td>0.0</td>\n",
       "      <td>1</td>\n",
       "      <td>1</td>\n",
       "    </tr>\n",
       "    <tr>\n",
       "      <th>9</th>\n",
       "      <td>646</td>\n",
       "      <td>TRANSFER</td>\n",
       "      <td>399045.08</td>\n",
       "      <td>C724693370</td>\n",
       "      <td>1.039904508E7</td>\n",
       "      <td>1.039904508E7</td>\n",
       "      <td>C1909486199</td>\n",
       "      <td>0.0</td>\n",
       "      <td>0.0</td>\n",
       "      <td>1</td>\n",
       "      <td>1</td>\n",
       "    </tr>\n",
       "    <tr>\n",
       "      <th>10</th>\n",
       "      <td>387</td>\n",
       "      <td>TRANSFER</td>\n",
       "      <td>4892193.09</td>\n",
       "      <td>C908544136</td>\n",
       "      <td>4892193.09</td>\n",
       "      <td>4892193.09</td>\n",
       "      <td>C891140444</td>\n",
       "      <td>0.0</td>\n",
       "      <td>0.0</td>\n",
       "      <td>1</td>\n",
       "      <td>1</td>\n",
       "    </tr>\n",
       "    <tr>\n",
       "      <th>11</th>\n",
       "      <td>212</td>\n",
       "      <td>TRANSFER</td>\n",
       "      <td>4953893.08</td>\n",
       "      <td>C728984460</td>\n",
       "      <td>4953893.08</td>\n",
       "      <td>4953893.08</td>\n",
       "      <td>C639921569</td>\n",
       "      <td>0.0</td>\n",
       "      <td>0.0</td>\n",
       "      <td>1</td>\n",
       "      <td>1</td>\n",
       "    </tr>\n",
       "    <tr>\n",
       "      <th>12</th>\n",
       "      <td>279</td>\n",
       "      <td>TRANSFER</td>\n",
       "      <td>536624.41</td>\n",
       "      <td>C1035541766</td>\n",
       "      <td>536624.41</td>\n",
       "      <td>536624.41</td>\n",
       "      <td>C1100697970</td>\n",
       "      <td>0.0</td>\n",
       "      <td>0.0</td>\n",
       "      <td>1</td>\n",
       "      <td>1</td>\n",
       "    </tr>\n",
       "    <tr>\n",
       "      <th>13</th>\n",
       "      <td>741</td>\n",
       "      <td>TRANSFER</td>\n",
       "      <td>5674547.89</td>\n",
       "      <td>C992223106</td>\n",
       "      <td>5674547.89</td>\n",
       "      <td>5674547.89</td>\n",
       "      <td>C1366804249</td>\n",
       "      <td>0.0</td>\n",
       "      <td>0.0</td>\n",
       "      <td>1</td>\n",
       "      <td>1</td>\n",
       "    </tr>\n",
       "    <tr>\n",
       "      <th>14</th>\n",
       "      <td>730</td>\n",
       "      <td>TRANSFER</td>\n",
       "      <td>7316255.05</td>\n",
       "      <td>C1869569059</td>\n",
       "      <td>1.731625505E7</td>\n",
       "      <td>1.731625505E7</td>\n",
       "      <td>C1861208726</td>\n",
       "      <td>0.0</td>\n",
       "      <td>0.0</td>\n",
       "      <td>1</td>\n",
       "      <td>1</td>\n",
       "    </tr>\n",
       "    <tr>\n",
       "      <th>15</th>\n",
       "      <td>425</td>\n",
       "      <td>TRANSFER</td>\n",
       "      <td>9585040.37</td>\n",
       "      <td>C452586515</td>\n",
       "      <td>1.958504037E7</td>\n",
       "      <td>1.958504037E7</td>\n",
       "      <td>C1109166882</td>\n",
       "      <td>0.0</td>\n",
       "      <td>0.0</td>\n",
       "      <td>1</td>\n",
       "      <td>1</td>\n",
       "    </tr>\n",
       "  </tbody>\n",
       "</table>\n",
       "</div>"
      ],
      "text/plain": [
       "   step      type      amount     nameOrig  oldbalanceOrg newbalanceOrig  \\\n",
       "0   425  TRANSFER       1.0E7   C689608084  1.958504037E7  1.958504037E7   \n",
       "1   646  TRANSFER       1.0E7    C19004745  1.039904508E7  1.039904508E7   \n",
       "2   730  TRANSFER       1.0E7  C2140038573  1.731625505E7  1.731625505E7   \n",
       "3   250  TRANSFER  1343002.08  C1100582606     1343002.08     1343002.08   \n",
       "4   617  TRANSFER  2542664.27   C786455622     2542664.27     2542664.27   \n",
       "5   702  TRANSFER  3171085.59  C1892216157     3171085.59     3171085.59   \n",
       "6   671  TRANSFER  3441041.46   C917414431     3441041.46     3441041.46   \n",
       "7   586  TRANSFER   353874.22  C1684585475      353874.22      353874.22   \n",
       "8   554  TRANSFER   3576297.1   C193696150      3576297.1      3576297.1   \n",
       "9   646  TRANSFER   399045.08   C724693370  1.039904508E7  1.039904508E7   \n",
       "10  387  TRANSFER  4892193.09   C908544136     4892193.09     4892193.09   \n",
       "11  212  TRANSFER  4953893.08   C728984460     4953893.08     4953893.08   \n",
       "12  279  TRANSFER   536624.41  C1035541766      536624.41      536624.41   \n",
       "13  741  TRANSFER  5674547.89   C992223106     5674547.89     5674547.89   \n",
       "14  730  TRANSFER  7316255.05  C1869569059  1.731625505E7  1.731625505E7   \n",
       "15  425  TRANSFER  9585040.37   C452586515  1.958504037E7  1.958504037E7   \n",
       "\n",
       "       nameDest oldbalanceDest newbalanceDest isFraud isFlaggedFraud  \n",
       "0   C1392803603            0.0            0.0       1              1  \n",
       "1   C1806199534            0.0            0.0       1              1  \n",
       "2   C1395467927            0.0            0.0       1              1  \n",
       "3   C1147517658            0.0            0.0       1              1  \n",
       "4    C661958277            0.0            0.0       1              1  \n",
       "5   C1308068787            0.0            0.0       1              1  \n",
       "6   C1082139865            0.0            0.0       1              1  \n",
       "7   C1770418982            0.0            0.0       1              1  \n",
       "8    C484597480            0.0            0.0       1              1  \n",
       "9   C1909486199            0.0            0.0       1              1  \n",
       "10   C891140444            0.0            0.0       1              1  \n",
       "11   C639921569            0.0            0.0       1              1  \n",
       "12  C1100697970            0.0            0.0       1              1  \n",
       "13  C1366804249            0.0            0.0       1              1  \n",
       "14  C1861208726            0.0            0.0       1              1  \n",
       "15  C1109166882            0.0            0.0       1              1  "
      ]
     },
     "execution_count": 16,
     "metadata": {},
     "output_type": "execute_result"
    }
   ],
   "source": [
    "data.filter(data['isFlaggedFraud'] == 1).orderBy('amount').toPandas()"
   ]
  },
  {
   "cell_type": "markdown",
   "metadata": {},
   "source": [
    "Ah there, it is better now. We can see that the flag is only given if the transaction exceed a certain threshold, which is $200,000$ in the local currency, However the smallest amount here is $10^7$. This approach is not robust to say the least. Let's have a better look at the fraudulent transactions statistics."
   ]
  },
  {
   "cell_type": "code",
   "execution_count": 17,
   "metadata": {},
   "outputs": [
    {
     "name": "stdout",
     "output_type": "stream",
     "text": [
      "\u001b[1mThe maximum amount for a flagged transaction is 9585040.37\u001b[0m\n",
      "\u001b[1mThe minimum amount for a flagged transaction is 1.0E7\u001b[0m\n"
     ]
    }
   ],
   "source": [
    "print('\\033[1mThe maximum amount for a flagged transaction is {}\\033[0m'\n",
    "      .format(data.filter(data['isFlaggedFraud'] == 1).agg({\"amount\": \"max\"}).collect()[0][0]))\n",
    "print('\\033[1mThe minimum amount for a flagged transaction is {}\\033[0m'\n",
    "      .format(data.filter(data['isFlaggedFraud'] == 1).agg({\"amount\": \"min\"}).collect()[0][0]))"
   ]
  },
  {
   "cell_type": "markdown",
   "metadata": {},
   "source": [
    "Let's see now the average amount for the transactions of each type : flagged or not."
   ]
  },
  {
   "cell_type": "code",
   "execution_count": 18,
   "metadata": {},
   "outputs": [
    {
     "name": "stdout",
     "output_type": "stream",
     "text": [
      "+--------------+------------------+---------------------+\n",
      "|isFlaggedFraud|       avg(amount)|count(isFlaggedFraud)|\n",
      "+--------------+------------------+---------------------+\n",
      "|             0|179850.13041768514|              6362604|\n",
      "|             1|    4861597.730625|                   16|\n",
      "+--------------+------------------+---------------------+\n",
      "\n"
     ]
    }
   ],
   "source": [
    "data.groupBy(['isFlaggedFraud']).agg({'amount':'avg','isFlaggedFraud':'count'}).show()"
   ]
  },
  {
   "cell_type": "markdown",
   "metadata": {},
   "source": [
    "We can see that the average for flagged transaction is **27** times greater than that of all the other transactions combined, including the undetected frauds. Albeit this system is great for avoiding tremendous losses it leaves a lot to be desired. "
   ]
  },
  {
   "cell_type": "markdown",
   "metadata": {},
   "source": [
    "Just to showcase more functions using pyspark we can redo the previous work using the following code : "
   ]
  },
  {
   "cell_type": "code",
   "execution_count": 19,
   "metadata": {},
   "outputs": [
    {
     "data": {
      "text/plain": [
       "[Row(isFlaggedFraud='0', avg(amount)=179850.13041768526, sum(amount)=1144315159196.086, max(amount)='99999.81', count(amount)=6362604),\n",
       " Row(isFlaggedFraud='1', avg(amount)=4861597.730625, sum(amount)=77785563.69, max(amount)='9585040.37', count(amount)=16)]"
      ]
     },
     "execution_count": 19,
     "metadata": {},
     "output_type": "execute_result"
    }
   ],
   "source": [
    "aggr_l = [\"amount\"] # if one desires more aggregates, one can add them to the list\n",
    "func_l = [mean, sum, max,count] # Functions to be used for  aggregations\n",
    "expr_l = [f(col(c)) for f in func_l for c in aggr_l] # expressions list\n",
    "query_fr = data.groupby(\"isFlaggedFraud\").agg(*expr_l).collect()\n",
    "query_fr"
   ]
  },
  {
   "cell_type": "markdown",
   "metadata": {},
   "source": [
    "We can see that we recovered all the results with a more compact code which is super useful as 5 lines of code can replace dozens. Now, let's see if same origin account are more prone than others, the victims, to being associated with frauds when it is flagged. We will do the same for the destination accounts which is this case would be  the offenders. It is logical to assume that offenders, when they are flagged, commit one or more crimes or maybe they get banned."
   ]
  },
  {
   "cell_type": "code",
   "execution_count": 20,
   "metadata": {},
   "outputs": [
    {
     "name": "stdout",
     "output_type": "stream",
     "text": [
      "+-----------+-----+\n",
      "|   nameOrig|count|\n",
      "+-----------+-----+\n",
      "|C2140038573|    1|\n",
      "|C1684585475|    1|\n",
      "| C452586515|    1|\n",
      "| C917414431|    1|\n",
      "| C724693370|    1|\n",
      "| C728984460|    1|\n",
      "| C992223106|    1|\n",
      "|C1869569059|    1|\n",
      "|  C19004745|    1|\n",
      "| C908544136|    1|\n",
      "|C1035541766|    1|\n",
      "|C1100582606|    1|\n",
      "| C689608084|    1|\n",
      "| C193696150|    1|\n",
      "| C786455622|    1|\n",
      "|C1892216157|    1|\n",
      "+-----------+-----+\n",
      "\n"
     ]
    }
   ],
   "source": [
    "data.filter(data['isFlaggedFraud'] == 1).groupBy('nameOrig').count().show()"
   ]
  },
  {
   "cell_type": "markdown",
   "metadata": {},
   "source": [
    "Apparently each victim is associated with only one flagged fraud"
   ]
  },
  {
   "cell_type": "code",
   "execution_count": 21,
   "metadata": {},
   "outputs": [
    {
     "name": "stdout",
     "output_type": "stream",
     "text": [
      "+-----------+-----+\n",
      "|   nameDest|count|\n",
      "+-----------+-----+\n",
      "|C1806199534|    1|\n",
      "|C1861208726|    1|\n",
      "|C1147517658|    1|\n",
      "|C1395467927|    1|\n",
      "| C661958277|    1|\n",
      "|C1392803603|    1|\n",
      "| C484597480|    1|\n",
      "|C1909486199|    1|\n",
      "| C639921569|    1|\n",
      "|C1082139865|    1|\n",
      "|C1100697970|    1|\n",
      "|C1770418982|    1|\n",
      "|C1308068787|    1|\n",
      "|C1109166882|    1|\n",
      "| C891140444|    1|\n",
      "|C1366804249|    1|\n",
      "+-----------+-----+\n",
      "\n"
     ]
    }
   ],
   "source": [
    "data.filter(data['isFlaggedFraud'] == 1).groupBy('nameDest').count().show()"
   ]
  },
  {
   "cell_type": "markdown",
   "metadata": {},
   "source": [
    "Well as expected each account, once flagged for fraud and in this case it happens that each flag is correct, the user is more likely to get banned and therefore no more offenses are commited so one offense is registered for each account."
   ]
  },
  {
   "cell_type": "markdown",
   "metadata": {},
   "source": [
    "The same can be said for the **isFraud** column, the reader can check this simply."
   ]
  },
  {
   "cell_type": "markdown",
   "metadata": {},
   "source": [
    "<div class=\"alert alert-info\">\n",
    "    <h3>Part 1.3: The Merchants </h3>\n",
    "</div>"
   ]
  },
  {
   "cell_type": "markdown",
   "metadata": {},
   "source": [
    "It was stated in the data description that merchants have the M prefix in their name, however this doesn't seem to be the case\n",
    "as there is no **CASH_IN** from merchants to customers as we can see below : "
   ]
  },
  {
   "cell_type": "code",
   "execution_count": 22,
   "metadata": {},
   "outputs": [
    {
     "name": "stdout",
     "output_type": "stream",
     "text": [
      "+----+----+------+--------+-------------+--------------+--------+--------------+--------------+-------+--------------+\n",
      "|step|type|amount|nameOrig|oldbalanceOrg|newbalanceOrig|nameDest|oldbalanceDest|newbalanceDest|isFraud|isFlaggedFraud|\n",
      "+----+----+------+--------+-------------+--------------+--------+--------------+--------------+-------+--------------+\n",
      "+----+----+------+--------+-------------+--------------+--------+--------------+--------------+-------+--------------+\n",
      "\n"
     ]
    }
   ],
   "source": [
    "data.filter( (data['type'] == 'CASH_IN') & (data['nameOrig'].like('%M%')) ).show()"
   ]
  },
  {
   "cell_type": "code",
   "execution_count": 23,
   "metadata": {},
   "outputs": [
    {
     "name": "stdout",
     "output_type": "stream",
     "text": [
      "+----+----+------+--------+-------------+--------------+--------+--------------+--------------+-------+--------------+\n",
      "|step|type|amount|nameOrig|oldbalanceOrg|newbalanceOrig|nameDest|oldbalanceDest|newbalanceDest|isFraud|isFlaggedFraud|\n",
      "+----+----+------+--------+-------------+--------------+--------+--------------+--------------+-------+--------------+\n",
      "+----+----+------+--------+-------------+--------------+--------+--------------+--------------+-------+--------------+\n",
      "\n"
     ]
    }
   ],
   "source": [
    "data.filter( (data['type'] == 'CASH_OUT') & (data['nameOrig'].like('%M%')) ).show()"
   ]
  },
  {
   "cell_type": "code",
   "execution_count": 24,
   "metadata": {},
   "outputs": [
    {
     "name": "stdout",
     "output_type": "stream",
     "text": [
      "+-------+-------+\n",
      "|   type|  count|\n",
      "+-------+-------+\n",
      "|PAYMENT|2151495|\n",
      "+-------+-------+\n",
      "\n"
     ]
    }
   ],
   "source": [
    "data.filter(data['nameDest'].like('%M%')).groupBy('type').count().show()"
   ]
  },
  {
   "cell_type": "markdown",
   "metadata": {},
   "source": [
    "We can see that merchants only figure in the payment category and in the destination of a given payment."
   ]
  },
  {
   "cell_type": "markdown",
   "metadata": {},
   "source": [
    "<div class=\"alert alert-info\">\n",
    "    <h2>Part 2: Data cleaning </h2>\n",
    "</div>"
   ]
  },
  {
   "cell_type": "markdown",
   "metadata": {},
   "source": [
    "<div class=\"alert alert-info\">\n",
    "    <h3>Part 2.1: Changing the target category </h3>\n",
    "</div>"
   ]
  },
  {
   "cell_type": "markdown",
   "metadata": {},
   "source": [
    "For some cases, mainly those which are involved in the fraud (see previous part), we will change the value of the associated amounts in the **oldbalanceDest** from **0** to **-1**. "
   ]
  },
  {
   "cell_type": "code",
   "execution_count": 25,
   "metadata": {},
   "outputs": [],
   "source": [
    "fraud_dest = data.filter(data['type'].isin(['CASH_OUT','TRANSFER']))\n",
    "fraud_dest = fraud_dest.withColumn('oldbalanceDest', when((fraud_dest['oldbalanceDest'] == 0) \\\n",
    "                & (fraud_dest['newbalanceDest'] ==0) & \\\n",
    "                (fraud_dest['amount'] !=0), -1).otherwise(fraud_dest['oldbalanceDest']))\n",
    "\n",
    "fraud_dest = fraud_dest.withColumn('newbalanceDest', when((fraud_dest['oldbalanceDest'] == 0) \\\n",
    "                & (fraud_dest['newbalanceDest'] ==0) & \\\n",
    "                (fraud_dest['amount'] !=0), -1).otherwise(fraud_dest['newbalanceDest']))"
   ]
  },
  {
   "cell_type": "markdown",
   "metadata": {},
   "source": [
    "Let's double check the results"
   ]
  },
  {
   "cell_type": "code",
   "execution_count": 26,
   "metadata": {},
   "outputs": [
    {
     "data": {
      "text/plain": [
       "Row(min(oldbalanceDest)='-1')"
      ]
     },
     "execution_count": 26,
     "metadata": {},
     "output_type": "execute_result"
    }
   ],
   "source": [
    "fraud_dest.agg({\"oldbalanceDest\": \"min\"}).collect()[0]"
   ]
  },
  {
   "cell_type": "markdown",
   "metadata": {},
   "source": [
    "<div class=\"alert alert-info\">\n",
    "    <h3>Part 2.2: Changing data types </h3>\n",
    "</div>"
   ]
  },
  {
   "cell_type": "markdown",
   "metadata": {},
   "source": [
    "Here we will change the type of the transactions into numeric type along with the fraud column and then rename it to **label**"
   ]
  },
  {
   "cell_type": "code",
   "execution_count": 27,
   "metadata": {},
   "outputs": [],
   "source": [
    "indexers = [StringIndexer(inputCol=column, outputCol=column+\"_index\").fit(fraud_dest) for column in ['type']]\n",
    "pipeline = Pipeline(stages=indexers)\n",
    "fraud_dest_num = pipeline.fit(fraud_dest).transform(fraud_dest)"
   ]
  },
  {
   "cell_type": "code",
   "execution_count": 28,
   "metadata": {},
   "outputs": [],
   "source": [
    "final_data = fraud_dest_num.withColumn('type_index',fraud_dest_num['type_index'].cast(IntegerType()))\n",
    "final_data = final_data.withColumn('isFraud',fraud_dest_num['isFraud'].cast(IntegerType()))\n",
    "final_data = final_data.withColumnRenamed('isFraud','label') # Just renaming the target\n",
    "final_data = final_data.drop('type') # dropping unnecessary columns"
   ]
  },
  {
   "cell_type": "markdown",
   "metadata": {},
   "source": [
    "Let's see the final dataframe"
   ]
  },
  {
   "cell_type": "code",
   "execution_count": 29,
   "metadata": {},
   "outputs": [
    {
     "data": {
      "text/html": [
       "<div>\n",
       "<style scoped>\n",
       "    .dataframe tbody tr th:only-of-type {\n",
       "        vertical-align: middle;\n",
       "    }\n",
       "\n",
       "    .dataframe tbody tr th {\n",
       "        vertical-align: top;\n",
       "    }\n",
       "\n",
       "    .dataframe thead th {\n",
       "        text-align: right;\n",
       "    }\n",
       "</style>\n",
       "<table border=\"1\" class=\"dataframe\">\n",
       "  <thead>\n",
       "    <tr style=\"text-align: right;\">\n",
       "      <th></th>\n",
       "      <th>step</th>\n",
       "      <th>amount</th>\n",
       "      <th>nameOrig</th>\n",
       "      <th>oldbalanceOrg</th>\n",
       "      <th>newbalanceOrig</th>\n",
       "      <th>nameDest</th>\n",
       "      <th>oldbalanceDest</th>\n",
       "      <th>newbalanceDest</th>\n",
       "      <th>label</th>\n",
       "      <th>isFlaggedFraud</th>\n",
       "      <th>type_index</th>\n",
       "    </tr>\n",
       "  </thead>\n",
       "  <tbody>\n",
       "    <tr>\n",
       "      <th>0</th>\n",
       "      <td>1</td>\n",
       "      <td>181.0</td>\n",
       "      <td>C1305486145</td>\n",
       "      <td>181.0</td>\n",
       "      <td>0.0</td>\n",
       "      <td>C553264065</td>\n",
       "      <td>-1</td>\n",
       "      <td>0.0</td>\n",
       "      <td>1</td>\n",
       "      <td>0</td>\n",
       "      <td>1</td>\n",
       "    </tr>\n",
       "    <tr>\n",
       "      <th>1</th>\n",
       "      <td>1</td>\n",
       "      <td>181.0</td>\n",
       "      <td>C840083671</td>\n",
       "      <td>181.0</td>\n",
       "      <td>0.0</td>\n",
       "      <td>C38997010</td>\n",
       "      <td>21182.0</td>\n",
       "      <td>0.0</td>\n",
       "      <td>1</td>\n",
       "      <td>0</td>\n",
       "      <td>0</td>\n",
       "    </tr>\n",
       "    <tr>\n",
       "      <th>2</th>\n",
       "      <td>1</td>\n",
       "      <td>229133.94</td>\n",
       "      <td>C905080434</td>\n",
       "      <td>15325.0</td>\n",
       "      <td>0.0</td>\n",
       "      <td>C476402209</td>\n",
       "      <td>5083.0</td>\n",
       "      <td>51513.44</td>\n",
       "      <td>0</td>\n",
       "      <td>0</td>\n",
       "      <td>0</td>\n",
       "    </tr>\n",
       "    <tr>\n",
       "      <th>3</th>\n",
       "      <td>1</td>\n",
       "      <td>215310.3</td>\n",
       "      <td>C1670993182</td>\n",
       "      <td>705.0</td>\n",
       "      <td>0.0</td>\n",
       "      <td>C1100439041</td>\n",
       "      <td>22425.0</td>\n",
       "      <td>0.0</td>\n",
       "      <td>0</td>\n",
       "      <td>0</td>\n",
       "      <td>1</td>\n",
       "    </tr>\n",
       "    <tr>\n",
       "      <th>4</th>\n",
       "      <td>1</td>\n",
       "      <td>311685.89</td>\n",
       "      <td>C1984094095</td>\n",
       "      <td>10835.0</td>\n",
       "      <td>0.0</td>\n",
       "      <td>C932583850</td>\n",
       "      <td>6267.0</td>\n",
       "      <td>2719172.89</td>\n",
       "      <td>0</td>\n",
       "      <td>0</td>\n",
       "      <td>1</td>\n",
       "    </tr>\n",
       "    <tr>\n",
       "      <th>5</th>\n",
       "      <td>1</td>\n",
       "      <td>110414.71</td>\n",
       "      <td>C768216420</td>\n",
       "      <td>26845.41</td>\n",
       "      <td>0.0</td>\n",
       "      <td>C1509514333</td>\n",
       "      <td>288800.0</td>\n",
       "      <td>2415.16</td>\n",
       "      <td>0</td>\n",
       "      <td>0</td>\n",
       "      <td>0</td>\n",
       "    </tr>\n",
       "    <tr>\n",
       "      <th>6</th>\n",
       "      <td>1</td>\n",
       "      <td>56953.9</td>\n",
       "      <td>C1570470538</td>\n",
       "      <td>1942.02</td>\n",
       "      <td>0.0</td>\n",
       "      <td>C824009085</td>\n",
       "      <td>70253.0</td>\n",
       "      <td>64106.18</td>\n",
       "      <td>0</td>\n",
       "      <td>0</td>\n",
       "      <td>0</td>\n",
       "    </tr>\n",
       "    <tr>\n",
       "      <th>7</th>\n",
       "      <td>1</td>\n",
       "      <td>5346.89</td>\n",
       "      <td>C512549200</td>\n",
       "      <td>0.0</td>\n",
       "      <td>0.0</td>\n",
       "      <td>C248609774</td>\n",
       "      <td>652637.0</td>\n",
       "      <td>6453430.91</td>\n",
       "      <td>0</td>\n",
       "      <td>0</td>\n",
       "      <td>0</td>\n",
       "    </tr>\n",
       "    <tr>\n",
       "      <th>8</th>\n",
       "      <td>1</td>\n",
       "      <td>23261.3</td>\n",
       "      <td>C2072313080</td>\n",
       "      <td>20411.53</td>\n",
       "      <td>0.0</td>\n",
       "      <td>C2001112025</td>\n",
       "      <td>25742.0</td>\n",
       "      <td>0.0</td>\n",
       "      <td>0</td>\n",
       "      <td>0</td>\n",
       "      <td>0</td>\n",
       "    </tr>\n",
       "    <tr>\n",
       "      <th>9</th>\n",
       "      <td>1</td>\n",
       "      <td>62610.8</td>\n",
       "      <td>C1976401987</td>\n",
       "      <td>79114.0</td>\n",
       "      <td>16503.2</td>\n",
       "      <td>C1937962514</td>\n",
       "      <td>517.0</td>\n",
       "      <td>8383.29</td>\n",
       "      <td>0</td>\n",
       "      <td>0</td>\n",
       "      <td>1</td>\n",
       "    </tr>\n",
       "  </tbody>\n",
       "</table>\n",
       "</div>"
      ],
      "text/plain": [
       "  step     amount     nameOrig oldbalanceOrg newbalanceOrig     nameDest  \\\n",
       "0    1      181.0  C1305486145         181.0            0.0   C553264065   \n",
       "1    1      181.0   C840083671         181.0            0.0    C38997010   \n",
       "2    1  229133.94   C905080434       15325.0            0.0   C476402209   \n",
       "3    1   215310.3  C1670993182         705.0            0.0  C1100439041   \n",
       "4    1  311685.89  C1984094095       10835.0            0.0   C932583850   \n",
       "5    1  110414.71   C768216420      26845.41            0.0  C1509514333   \n",
       "6    1    56953.9  C1570470538       1942.02            0.0   C824009085   \n",
       "7    1    5346.89   C512549200           0.0            0.0   C248609774   \n",
       "8    1    23261.3  C2072313080      20411.53            0.0  C2001112025   \n",
       "9    1    62610.8  C1976401987       79114.0        16503.2  C1937962514   \n",
       "\n",
       "  oldbalanceDest newbalanceDest  label isFlaggedFraud  type_index  \n",
       "0             -1            0.0      1              0           1  \n",
       "1        21182.0            0.0      1              0           0  \n",
       "2         5083.0       51513.44      0              0           0  \n",
       "3        22425.0            0.0      0              0           1  \n",
       "4         6267.0     2719172.89      0              0           1  \n",
       "5       288800.0        2415.16      0              0           0  \n",
       "6        70253.0       64106.18      0              0           0  \n",
       "7       652637.0     6453430.91      0              0           0  \n",
       "8        25742.0            0.0      0              0           0  \n",
       "9          517.0        8383.29      0              0           1  "
      ]
     },
     "execution_count": 29,
     "metadata": {},
     "output_type": "execute_result"
    }
   ],
   "source": [
    "final_data.limit(10).toPandas()"
   ]
  },
  {
   "cell_type": "markdown",
   "metadata": {},
   "source": [
    "<div class=\"alert alert-info\">\n",
    "    <h2>Part 3: Feature engineering </h2>\n",
    "</div>"
   ]
  },
  {
   "cell_type": "markdown",
   "metadata": {},
   "source": [
    "Here we will try to introduce some new features useful for our predictions. Here we will introduce the difference between the new balance and the old one in the origin and the destination columns."
   ]
  },
  {
   "cell_type": "code",
   "execution_count": 30,
   "metadata": {},
   "outputs": [
    {
     "data": {
      "text/html": [
       "<div>\n",
       "<style scoped>\n",
       "    .dataframe tbody tr th:only-of-type {\n",
       "        vertical-align: middle;\n",
       "    }\n",
       "\n",
       "    .dataframe tbody tr th {\n",
       "        vertical-align: top;\n",
       "    }\n",
       "\n",
       "    .dataframe thead th {\n",
       "        text-align: right;\n",
       "    }\n",
       "</style>\n",
       "<table border=\"1\" class=\"dataframe\">\n",
       "  <thead>\n",
       "    <tr style=\"text-align: right;\">\n",
       "      <th></th>\n",
       "      <th>step</th>\n",
       "      <th>amount</th>\n",
       "      <th>nameOrig</th>\n",
       "      <th>oldbalanceOrg</th>\n",
       "      <th>newbalanceOrig</th>\n",
       "      <th>nameDest</th>\n",
       "      <th>oldbalanceDest</th>\n",
       "      <th>newbalanceDest</th>\n",
       "      <th>label</th>\n",
       "      <th>isFlaggedFraud</th>\n",
       "      <th>type_index</th>\n",
       "      <th>errorbalanceOrig</th>\n",
       "      <th>errorbalanceDest</th>\n",
       "    </tr>\n",
       "  </thead>\n",
       "  <tbody>\n",
       "    <tr>\n",
       "      <th>0</th>\n",
       "      <td>1</td>\n",
       "      <td>181.0</td>\n",
       "      <td>C1305486145</td>\n",
       "      <td>181.0</td>\n",
       "      <td>0.0</td>\n",
       "      <td>C553264065</td>\n",
       "      <td>-1</td>\n",
       "      <td>0.0</td>\n",
       "      <td>1</td>\n",
       "      <td>0</td>\n",
       "      <td>1</td>\n",
       "      <td>0.00</td>\n",
       "      <td>180.00</td>\n",
       "    </tr>\n",
       "    <tr>\n",
       "      <th>1</th>\n",
       "      <td>1</td>\n",
       "      <td>181.0</td>\n",
       "      <td>C840083671</td>\n",
       "      <td>181.0</td>\n",
       "      <td>0.0</td>\n",
       "      <td>C38997010</td>\n",
       "      <td>21182.0</td>\n",
       "      <td>0.0</td>\n",
       "      <td>1</td>\n",
       "      <td>0</td>\n",
       "      <td>0</td>\n",
       "      <td>0.00</td>\n",
       "      <td>21363.00</td>\n",
       "    </tr>\n",
       "    <tr>\n",
       "      <th>2</th>\n",
       "      <td>1</td>\n",
       "      <td>229133.94</td>\n",
       "      <td>C905080434</td>\n",
       "      <td>15325.0</td>\n",
       "      <td>0.0</td>\n",
       "      <td>C476402209</td>\n",
       "      <td>5083.0</td>\n",
       "      <td>51513.44</td>\n",
       "      <td>0</td>\n",
       "      <td>0</td>\n",
       "      <td>0</td>\n",
       "      <td>213808.94</td>\n",
       "      <td>182703.50</td>\n",
       "    </tr>\n",
       "    <tr>\n",
       "      <th>3</th>\n",
       "      <td>1</td>\n",
       "      <td>215310.3</td>\n",
       "      <td>C1670993182</td>\n",
       "      <td>705.0</td>\n",
       "      <td>0.0</td>\n",
       "      <td>C1100439041</td>\n",
       "      <td>22425.0</td>\n",
       "      <td>0.0</td>\n",
       "      <td>0</td>\n",
       "      <td>0</td>\n",
       "      <td>1</td>\n",
       "      <td>214605.30</td>\n",
       "      <td>237735.30</td>\n",
       "    </tr>\n",
       "    <tr>\n",
       "      <th>4</th>\n",
       "      <td>1</td>\n",
       "      <td>311685.89</td>\n",
       "      <td>C1984094095</td>\n",
       "      <td>10835.0</td>\n",
       "      <td>0.0</td>\n",
       "      <td>C932583850</td>\n",
       "      <td>6267.0</td>\n",
       "      <td>2719172.89</td>\n",
       "      <td>0</td>\n",
       "      <td>0</td>\n",
       "      <td>1</td>\n",
       "      <td>300850.89</td>\n",
       "      <td>-2401220.00</td>\n",
       "    </tr>\n",
       "    <tr>\n",
       "      <th>5</th>\n",
       "      <td>1</td>\n",
       "      <td>110414.71</td>\n",
       "      <td>C768216420</td>\n",
       "      <td>26845.41</td>\n",
       "      <td>0.0</td>\n",
       "      <td>C1509514333</td>\n",
       "      <td>288800.0</td>\n",
       "      <td>2415.16</td>\n",
       "      <td>0</td>\n",
       "      <td>0</td>\n",
       "      <td>0</td>\n",
       "      <td>83569.30</td>\n",
       "      <td>396799.55</td>\n",
       "    </tr>\n",
       "    <tr>\n",
       "      <th>6</th>\n",
       "      <td>1</td>\n",
       "      <td>56953.9</td>\n",
       "      <td>C1570470538</td>\n",
       "      <td>1942.02</td>\n",
       "      <td>0.0</td>\n",
       "      <td>C824009085</td>\n",
       "      <td>70253.0</td>\n",
       "      <td>64106.18</td>\n",
       "      <td>0</td>\n",
       "      <td>0</td>\n",
       "      <td>0</td>\n",
       "      <td>55011.88</td>\n",
       "      <td>63100.72</td>\n",
       "    </tr>\n",
       "    <tr>\n",
       "      <th>7</th>\n",
       "      <td>1</td>\n",
       "      <td>5346.89</td>\n",
       "      <td>C512549200</td>\n",
       "      <td>0.0</td>\n",
       "      <td>0.0</td>\n",
       "      <td>C248609774</td>\n",
       "      <td>652637.0</td>\n",
       "      <td>6453430.91</td>\n",
       "      <td>0</td>\n",
       "      <td>0</td>\n",
       "      <td>0</td>\n",
       "      <td>5346.89</td>\n",
       "      <td>-5795447.02</td>\n",
       "    </tr>\n",
       "    <tr>\n",
       "      <th>8</th>\n",
       "      <td>1</td>\n",
       "      <td>23261.3</td>\n",
       "      <td>C2072313080</td>\n",
       "      <td>20411.53</td>\n",
       "      <td>0.0</td>\n",
       "      <td>C2001112025</td>\n",
       "      <td>25742.0</td>\n",
       "      <td>0.0</td>\n",
       "      <td>0</td>\n",
       "      <td>0</td>\n",
       "      <td>0</td>\n",
       "      <td>2849.77</td>\n",
       "      <td>49003.30</td>\n",
       "    </tr>\n",
       "    <tr>\n",
       "      <th>9</th>\n",
       "      <td>1</td>\n",
       "      <td>62610.8</td>\n",
       "      <td>C1976401987</td>\n",
       "      <td>79114.0</td>\n",
       "      <td>16503.2</td>\n",
       "      <td>C1937962514</td>\n",
       "      <td>517.0</td>\n",
       "      <td>8383.29</td>\n",
       "      <td>0</td>\n",
       "      <td>0</td>\n",
       "      <td>1</td>\n",
       "      <td>0.00</td>\n",
       "      <td>54744.51</td>\n",
       "    </tr>\n",
       "  </tbody>\n",
       "</table>\n",
       "</div>"
      ],
      "text/plain": [
       "  step     amount     nameOrig oldbalanceOrg newbalanceOrig     nameDest  \\\n",
       "0    1      181.0  C1305486145         181.0            0.0   C553264065   \n",
       "1    1      181.0   C840083671         181.0            0.0    C38997010   \n",
       "2    1  229133.94   C905080434       15325.0            0.0   C476402209   \n",
       "3    1   215310.3  C1670993182         705.0            0.0  C1100439041   \n",
       "4    1  311685.89  C1984094095       10835.0            0.0   C932583850   \n",
       "5    1  110414.71   C768216420      26845.41            0.0  C1509514333   \n",
       "6    1    56953.9  C1570470538       1942.02            0.0   C824009085   \n",
       "7    1    5346.89   C512549200           0.0            0.0   C248609774   \n",
       "8    1    23261.3  C2072313080      20411.53            0.0  C2001112025   \n",
       "9    1    62610.8  C1976401987       79114.0        16503.2  C1937962514   \n",
       "\n",
       "  oldbalanceDest newbalanceDest  label isFlaggedFraud  type_index  \\\n",
       "0             -1            0.0      1              0           1   \n",
       "1        21182.0            0.0      1              0           0   \n",
       "2         5083.0       51513.44      0              0           0   \n",
       "3        22425.0            0.0      0              0           1   \n",
       "4         6267.0     2719172.89      0              0           1   \n",
       "5       288800.0        2415.16      0              0           0   \n",
       "6        70253.0       64106.18      0              0           0   \n",
       "7       652637.0     6453430.91      0              0           0   \n",
       "8        25742.0            0.0      0              0           0   \n",
       "9          517.0        8383.29      0              0           1   \n",
       "\n",
       "   errorbalanceOrig  errorbalanceDest  \n",
       "0              0.00            180.00  \n",
       "1              0.00          21363.00  \n",
       "2         213808.94         182703.50  \n",
       "3         214605.30         237735.30  \n",
       "4         300850.89       -2401220.00  \n",
       "5          83569.30         396799.55  \n",
       "6          55011.88          63100.72  \n",
       "7           5346.89       -5795447.02  \n",
       "8           2849.77          49003.30  \n",
       "9              0.00          54744.51  "
      ]
     },
     "execution_count": 30,
     "metadata": {},
     "output_type": "execute_result"
    }
   ],
   "source": [
    "final_data = final_data.withColumn(\"errorbalanceOrig\", col(\"newbalanceOrig\") + col(\"amount\") - col(\"oldbalanceOrg\"))\n",
    "final_data = final_data.withColumn(\"errorbalanceDest\", col(\"oldbalanceDest\") + col(\"amount\") - col(\"newbalanceDest\"))\n",
    "final_data.limit(10).toPandas()"
   ]
  },
  {
   "cell_type": "markdown",
   "metadata": {},
   "source": [
    "That's it for adding new features, sadly. Now let's divide it to target and features frame. "
   ]
  },
  {
   "cell_type": "markdown",
   "metadata": {},
   "source": [
    "Now we will convert the literal attributes (strings) into numeric type for the adequate columns, as strings are not useful for our predictions later."
   ]
  },
  {
   "cell_type": "code",
   "execution_count": 31,
   "metadata": {},
   "outputs": [
    {
     "data": {
      "text/plain": [
       "[('step', 'string'),\n",
       " ('amount', 'string'),\n",
       " ('nameOrig', 'string'),\n",
       " ('oldbalanceOrg', 'string'),\n",
       " ('newbalanceOrig', 'string'),\n",
       " ('nameDest', 'string'),\n",
       " ('oldbalanceDest', 'string'),\n",
       " ('newbalanceDest', 'string'),\n",
       " ('label', 'int'),\n",
       " ('isFlaggedFraud', 'string'),\n",
       " ('type_index', 'int'),\n",
       " ('errorbalanceOrig', 'double'),\n",
       " ('errorbalanceDest', 'double')]"
      ]
     },
     "execution_count": 31,
     "metadata": {},
     "output_type": "execute_result"
    }
   ],
   "source": [
    "final_data.dtypes"
   ]
  },
  {
   "cell_type": "code",
   "execution_count": 32,
   "metadata": {},
   "outputs": [],
   "source": [
    "string_types = ['step', 'amount', 'oldbalanceOrg', 'newbalanceOrig', 'oldbalanceDest', 'newbalanceDest', 'isFlaggedFraud']\n",
    "for elem in string_types:\n",
    "    final_data = final_data.withColumn(elem, col(elem).cast('float'))"
   ]
  },
  {
   "cell_type": "code",
   "execution_count": 33,
   "metadata": {},
   "outputs": [
    {
     "data": {
      "text/plain": [
       "[('step', 'float'),\n",
       " ('amount', 'float'),\n",
       " ('nameOrig', 'string'),\n",
       " ('oldbalanceOrg', 'float'),\n",
       " ('newbalanceOrig', 'float'),\n",
       " ('nameDest', 'string'),\n",
       " ('oldbalanceDest', 'float'),\n",
       " ('newbalanceDest', 'float'),\n",
       " ('label', 'int'),\n",
       " ('isFlaggedFraud', 'float'),\n",
       " ('type_index', 'int'),\n",
       " ('errorbalanceOrig', 'double'),\n",
       " ('errorbalanceDest', 'double')]"
      ]
     },
     "execution_count": 33,
     "metadata": {},
     "output_type": "execute_result"
    }
   ],
   "source": [
    "final_data.dtypes"
   ]
  },
  {
   "cell_type": "markdown",
   "metadata": {},
   "source": [
    "<div class=\"alert alert-info\">\n",
    "    <h2>Part 4: Prediction </h2>\n",
    "</div>"
   ]
  },
  {
   "cell_type": "markdown",
   "metadata": {},
   "source": [
    "In this part we will try to construct a predictor for our problem at hand using pyspark ML utilities"
   ]
  },
  {
   "cell_type": "markdown",
   "metadata": {},
   "source": [
    "<div class=\"alert alert-info\">\n",
    "    <h3>Part 4.1: Train-Test Split </h3>\n",
    "</div>"
   ]
  },
  {
   "cell_type": "markdown",
   "metadata": {},
   "source": [
    "As we have seen our dataset is highly imbalanced so we will use a stratified split to overcome this."
   ]
  },
  {
   "cell_type": "code",
   "execution_count": 34,
   "metadata": {},
   "outputs": [],
   "source": [
    "fracs = final_data.select(\"label\").distinct().withColumn(\"fraction\", lit(0.8)).rdd.collectAsMap()\n",
    "train = final_data.sampleBy('label',fracs,seed=42)\n",
    "test = final_data.subtract(train)"
   ]
  },
  {
   "cell_type": "markdown",
   "metadata": {},
   "source": [
    "<div class=\"alert alert-info\">\n",
    "    <h3>Part 4.2: ML pipeline </h3>\n",
    "</div>"
   ]
  },
  {
   "cell_type": "code",
   "execution_count": 35,
   "metadata": {},
   "outputs": [],
   "source": [
    "target, features = ['label'], ['step','type_index','amount','oldbalanceOrg','newbalanceOrig', \n",
    "                               'oldbalanceDest','newbalanceDest',\"errorbalanceOrig\",\"errorbalanceDest\"]"
   ]
  },
  {
   "cell_type": "markdown",
   "metadata": {},
   "source": [
    "Let's use PCA for reducing the dimensionality of the data as we are not sure which of the features is most adequate for the prediction. We will keep the 5 most relevant features, this is not the best approach but it yields good results later so we will keep it. First let's vectorise the dataframe first."
   ]
  },
  {
   "cell_type": "code",
   "execution_count": 39,
   "metadata": {},
   "outputs": [],
   "source": [
    "vect_data = VectorAssembler(inputCols=features, outputCol=\"features_vct\")"
   ]
  },
  {
   "cell_type": "code",
   "execution_count": 40,
   "metadata": {},
   "outputs": [],
   "source": [
    "pca = PCA(k=5, inputCol=\"features_vct\", outputCol=\"features_pca\")"
   ]
  },
  {
   "cell_type": "markdown",
   "metadata": {},
   "source": [
    "We are going to use a random forest classifier so let's create a classifier"
   ]
  },
  {
   "cell_type": "code",
   "execution_count": 41,
   "metadata": {},
   "outputs": [],
   "source": [
    "random_forest = RandomForestClassifier(labelCol=\"label\", featuresCol=\"features_pca\")"
   ]
  },
  {
   "cell_type": "markdown",
   "metadata": {},
   "source": [
    "Now, let's put together the pipeline"
   ]
  },
  {
   "cell_type": "code",
   "execution_count": 42,
   "metadata": {},
   "outputs": [],
   "source": [
    "pipeline = Pipeline(stages=[vect_data, pca, random_forest])"
   ]
  },
  {
   "cell_type": "markdown",
   "metadata": {},
   "source": [
    "And finally a multi-label evaluator "
   ]
  },
  {
   "cell_type": "code",
   "execution_count": 43,
   "metadata": {},
   "outputs": [],
   "source": [
    "eval_classif = MulticlassClassificationEvaluator()  "
   ]
  },
  {
   "cell_type": "markdown",
   "metadata": {},
   "source": [
    "<div class=\"alert alert-info\">\n",
    "    <h3>Part 4.3: Hyper parameter search </h3>\n",
    "</div>"
   ]
  },
  {
   "cell_type": "markdown",
   "metadata": {},
   "source": [
    "We will employ a grid search to find the optimal parameters for our model"
   ]
  },
  {
   "cell_type": "code",
   "execution_count": 44,
   "metadata": {},
   "outputs": [],
   "source": [
    "#Building the parameter grid for the random forest\n",
    "param_grid = (ParamGridBuilder()\n",
    "             .addGrid(random_forest.maxDepth, [2, 4, 6])\n",
    "             .addGrid(random_forest.maxBins, [20, 60])\n",
    "             .addGrid(random_forest.numTrees, [5, 20])\n",
    "             .addGrid(random_forest.impurity, ['gini', 'entropy']) # splitting criterion inside the tree \n",
    "             .build())"
   ]
  },
  {
   "cell_type": "markdown",
   "metadata": {},
   "source": [
    "Let's also code a validation and an evaluation function "
   ]
  },
  {
   "cell_type": "code",
   "execution_count": 45,
   "metadata": {},
   "outputs": [],
   "source": [
    "def validation(criterion='cross_validation'):\n",
    "    if criterion == 'cross_validation':\n",
    "        return CrossValidator(\n",
    "            estimator=pipeline,\n",
    "            estimatorParamMaps=param_grid,\n",
    "            evaluator=eval_classif,\n",
    "            numFolds=10)\n",
    "    \n",
    "    elif criterion == 'train_test_splits': \n",
    "        return TrainValidationSplit(\n",
    "            estimator=pipeline,\n",
    "            estimatorParamMaps=param_grid,\n",
    "            evaluator=eval_classif,\n",
    "            trainRatio=0.8)\n",
    "    else:\n",
    "        print('The validation criterion can either be \\033[1m cross_validation\\033[0m or \\033[1mtrain_test_splits\\033[0m')\n",
    "        return None"
   ]
  },
  {
   "cell_type": "markdown",
   "metadata": {},
   "source": [
    "This function evaluates the model quantitatively via accuracy computation"
   ]
  },
  {
   "cell_type": "code",
   "execution_count": 46,
   "metadata": {},
   "outputs": [],
   "source": [
    "def evaluation(model, train, test):\n",
    "    pred = model.transform(train)\n",
    "    acc = eval_classif.evaluate(pred)\n",
    "    test_pred = model.transform(test)\n",
    "    test_acc = eval_classif.evaluate(test_pred)\n",
    "    print('\\033[1mtrain_acc:\\033[0m{}, \\033[1mtest_acc:\\033[0m{}'.format(acc, test_acc))\n",
    "    return pred, test_pred"
   ]
  },
  {
   "cell_type": "markdown",
   "metadata": {},
   "source": [
    "Let's see first check the columns of the train frame"
   ]
  },
  {
   "cell_type": "code",
   "execution_count": 47,
   "metadata": {},
   "outputs": [
    {
     "data": {
      "text/plain": [
       "[('step', 'float'),\n",
       " ('amount', 'float'),\n",
       " ('nameOrig', 'string'),\n",
       " ('oldbalanceOrg', 'float'),\n",
       " ('newbalanceOrig', 'float'),\n",
       " ('nameDest', 'string'),\n",
       " ('oldbalanceDest', 'float'),\n",
       " ('newbalanceDest', 'float'),\n",
       " ('label', 'int'),\n",
       " ('isFlaggedFraud', 'float'),\n",
       " ('type_index', 'int'),\n",
       " ('errorbalanceOrig', 'double'),\n",
       " ('errorbalanceDest', 'double')]"
      ]
     },
     "execution_count": 47,
     "metadata": {},
     "output_type": "execute_result"
    }
   ],
   "source": [
    "train.dtypes"
   ]
  },
  {
   "cell_type": "markdown",
   "metadata": {},
   "source": [
    "All seems good, let's now try to find the most adequate model"
   ]
  },
  {
   "cell_type": "code",
   "execution_count": 48,
   "metadata": {},
   "outputs": [],
   "source": [
    "validated = validation() # using cross validation\n",
    "cross_val_models = validated.fit(train)"
   ]
  },
  {
   "cell_type": "code",
   "execution_count": 49,
   "metadata": {},
   "outputs": [
    {
     "data": {
      "text/plain": [
       "0.9983506322042504"
      ]
     },
     "execution_count": 49,
     "metadata": {},
     "output_type": "execute_result"
    }
   ],
   "source": [
    "best_overall = cross_val_models.bestModel\n",
    "preds = best_overall.transform(train)\n",
    "eval_classif.evaluate(preds)"
   ]
  },
  {
   "cell_type": "markdown",
   "metadata": {},
   "source": [
    "That's seems to be a pretty good result, let's see what are the best parameters"
   ]
  },
  {
   "cell_type": "code",
   "execution_count": 194,
   "metadata": {},
   "outputs": [
    {
     "name": "stdout",
     "output_type": "stream",
     "text": [
      "\u001b[1mThe best impurity criterion is:\u001b[0m gini\n",
      "\u001b[1mThe best choice for the maximum depth is:\u001b[0m 6\n",
      "\u001b[1mThe best choice for the maximum number of bins is:\u001b[0m 60\n",
      "\u001b[1mThe best choice for the number of trees is:\u001b[0m 5\n"
     ]
    }
   ],
   "source": [
    "print('\\033[1mThe best impurity criterion is:\\033[0m {}'.format(best_overall.stages[-1]._java_obj.getImpurity()))\n",
    "print('\\033[1mThe best choice for the maximum depth is:\\033[0m {}'\n",
    "      .format(best_overall.stages[-1]._java_obj.getMaxDepth()))\n",
    "print('\\033[1mThe best choice for the maximum number of bins is:\\033[0m {}'\n",
    "      .format(best_overall.stages[-1]._java_obj.getMaxBins()))\n",
    "print('\\033[1mThe best choice for the number of trees is:\\033[0m {}'\n",
    "      .format(best_overall.stages[-1]._java_obj.getNumTrees()))"
   ]
  },
  {
   "cell_type": "markdown",
   "metadata": {},
   "source": [
    "<div class=\"alert alert-info\">\n",
    "    <h3>Part 4.4: Model evaluation  </h3>\n",
    "</div>"
   ]
  },
  {
   "cell_type": "markdown",
   "metadata": {},
   "source": [
    "Now let's evaluate the model using notions like accuracy, precision and recall. Let's see how the model is doing."
   ]
  },
  {
   "cell_type": "code",
   "execution_count": 209,
   "metadata": {},
   "outputs": [
    {
     "name": "stdout",
     "output_type": "stream",
     "text": [
      "\u001b[1mtrain_acc:\u001b[0m0.9983304329822252, \u001b[1mtest_acc:\u001b[0m0.9983650475099156\n"
     ]
    }
   ],
   "source": [
    "pred, test_pred = evaluation(cross_val_models, train, test)"
   ]
  },
  {
   "cell_type": "code",
   "execution_count": 205,
   "metadata": {},
   "outputs": [],
   "source": [
    "# Changing matplotlib default style\n",
    "plt.style.use('ggplot')"
   ]
  },
  {
   "cell_type": "markdown",
   "metadata": {},
   "source": [
    "We will introduce 2 functions that compute the confusion matrix and the various metrics that we can see below."
   ]
  },
  {
   "cell_type": "code",
   "execution_count": 217,
   "metadata": {},
   "outputs": [],
   "source": [
    "def reporter(train_trg, test_trg, train_pred, test_pred, classes):\n",
    "    figure, axes = plt.subplots(1, 2, figsize=(10,5))\n",
    "    conf_mat = confusion_matrix(test_trg, test_pred)\n",
    "    conf_mat_frame = pd.DataFrame(conf_mat, index = classes, columns = classes)\n",
    "    ax = sns.heatmap(conf_mat_frame, annot=True, ax = axes[0], square= True)\n",
    "    ax.set_title('Confusion matrix for Test')\n",
    "    conf_mat = confusion_matrix(train_trg, train_pred)\n",
    "    conf_mat_frame = pd.DataFrame(conf_mat, index = classes, columns = classes)\n",
    "    ax = sns.heatmap(conf_mat_frame, annot=True, ax = axes[1], square= True)\n",
    "    ax.set_title('confusion matrix for Train')\n",
    "    print('\\033[1m Testing results \\033[0m')\n",
    "    print(classification_report(test_trg, test_pred, target_names = classes))\n",
    "    print('acc: ', metrics.accuracy_score(test_trg, test_pred))\n",
    "    print('\\033[1m Training results \\033[0m')\n",
    "    print(classification_report(train_trg, train_pred, target_names = classes))\n",
    "    print('acc: ', metrics.accuracy_score(train_trg, train_pred))\n",
    "\n",
    "def classif_reporter(model, train, test, features, target):\n",
    "    train_classes = np.unique(train[target].values).tolist()\n",
    "    test_classes = np.unique(test[tarrget].values).tolist()\n",
    "    assert (train_classes == test_classes)\n",
    "    train_feat = train[features].values.tolist()\n",
    "    test_feat = test[features].values.tolist()\n",
    "    train_trg = df_train[target].values.tolist()\n",
    "    test_trg = df_test[y_feature].values.tolist()\n",
    "    train_pred = model.predict(train_feat)\n",
    "    test_pred = model.predict(test_feat)\n",
    "    reporter(train_trg, test_trg, train_pred, test_pred, train_classes)"
   ]
  },
  {
   "cell_type": "code",
   "execution_count": 218,
   "metadata": {},
   "outputs": [
    {
     "name": "stdout",
     "output_type": "stream",
     "text": [
      "\u001b[1m Testing results \u001b[0m\n",
      "              precision    recall  f1-score   support\n",
      "\n",
      "           0       1.00      1.00      1.00    551717\n",
      "           1       0.89      0.57      0.69      1632\n",
      "\n",
      "    accuracy                           1.00    553349\n",
      "   macro avg       0.95      0.78      0.85    553349\n",
      "weighted avg       1.00      1.00      1.00    553349\n",
      "\n",
      "acc:  0.9985289573126545\n",
      "\u001b[1m Training results \u001b[0m\n",
      "              precision    recall  f1-score   support\n",
      "\n",
      "           0       1.00      1.00      1.00   2210479\n",
      "           1       0.90      0.56      0.69      6581\n",
      "\n",
      "    accuracy                           1.00   2217060\n",
      "   macro avg       0.95      0.78      0.84   2217060\n",
      "weighted avg       1.00      1.00      1.00   2217060\n",
      "\n",
      "acc:  0.9985043255482485\n"
     ]
    },
    {
     "data": {
      "image/png": "[encoded data removed]",
      "text/plain": [
       "<Figure size 720x360 with 4 Axes>"
      ]
     },
     "metadata": {},
     "output_type": "display_data"
    }
   ],
   "source": [
    "train_trg = pred.select('label').toPandas().apply(lambda x : x[0], 1).values.tolist()\n",
    "train_pred = pred.select('prediction').toPandas().apply(lambda x : x[0], 1).values.tolist()\n",
    "test_trg = test_pred.select('label').toPandas().apply(lambda x : x[0], 1).values.tolist()\n",
    "test_pred_star = test_pred.select('prediction').toPandas().apply(lambda x : x[0], 1).values.tolist()\n",
    "reporter(train_trg, test_trg, train_pred, test_pred_star, ['0', '1'])"
   ]
  },
  {
   "cell_type": "code",
   "execution_count": 220,
   "metadata": {},
   "outputs": [
    {
     "name": "stdout",
     "output_type": "stream",
     "text": [
      "+-----+----------+--------------------+\n",
      "|label|prediction|         probability|\n",
      "+-----+----------+--------------------+\n",
      "|    1|       0.0|[0.98994318504618...|\n",
      "|    1|       0.0|[0.99859857064750...|\n",
      "|    0|       0.0|[0.99969679972571...|\n",
      "|    0|       0.0|[0.99790438921459...|\n",
      "|    0|       0.0|[0.99969679972571...|\n",
      "|    0|       0.0|[0.99790438921459...|\n",
      "|    0|       0.0|[0.99837865492825...|\n",
      "|    0|       0.0|[0.99969679972571...|\n",
      "|    0|       0.0|[0.99816533534706...|\n",
      "|    0|       0.0|[0.99879059111698...|\n",
      "+-----+----------+--------------------+\n",
      "only showing top 10 rows\n",
      "\n"
     ]
    },
    {
     "data": {
      "text/plain": [
       "None"
      ]
     },
     "metadata": {},
     "output_type": "display_data"
    }
   ],
   "source": [
    "display(pred.select(\"label\", \"prediction\", \"probability\").show(10))"
   ]
  },
  {
   "cell_type": "markdown",
   "metadata": {},
   "source": [
    "We can see that the model achieves satisfactory results. "
   ]
  },
  {
   "cell_type": "markdown",
   "metadata": {},
   "source": [
    "<div class=\"alert alert-block alert-success\">\n",
    "    <h1>Conclusion </h1>\n",
    "</div>"
   ]
  },
  {
   "cell_type": "markdown",
   "metadata": {},
   "source": [
    "We have successfully used **Pyspark** to analyse a dataset of a considerable size (at least for a local machine), we have also used the ML utilities it provides to conceive a pipeline that achieves very good results for fraud detection."
   ]
  }
 ],
 "metadata": {
  "kernelspec": {
   "display_name": "Python 3",
   "language": "python",
   "name": "python3"
  },
  "language_info": {
   "codemirror_mode": {
    "name": "ipython",
    "version": 3
   },
   "file_extension": ".py",
   "mimetype": "text/x-python",
   "name": "python",
   "nbconvert_exporter": "python",
   "pygments_lexer": "ipython3",
   "version": "3.9.2"
  }
 },
 "nbformat": 4,
 "nbformat_minor": 4
}
